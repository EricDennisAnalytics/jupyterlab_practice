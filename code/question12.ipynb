{
 "cells": [
  {
   "cell_type": "markdown",
   "id": "23cbe8f0-7c56-48c5-a79b-de65f094f480",
   "metadata": {},
   "source": [
    "We are currently working in the following directory:"
   ]
  },
  {
   "cell_type": "code",
   "execution_count": 1,
   "id": "972bc6c1-672b-4d2e-8c51-e4b0a13d0d36",
   "metadata": {},
   "outputs": [
    {
     "name": "stdout",
     "output_type": "stream",
     "text": [
      "/c/Users/erdennis/jupyterlab_practice/images\n"
     ]
    }
   ],
   "source": [
    "! pwd"
   ]
  },
  {
   "cell_type": "markdown",
   "id": "1ee4d945-8881-46a5-88dd-3c28ff13de5b",
   "metadata": {},
   "source": [
    "To time how long it takes to run a Python cell, we could use the timeit command inside a cell as is shown below:\n",
    "\n",
    "```\n",
    "\n",
    "%%timeit\n",
    "\n",
    "for i in range(1_000_000):\n",
    "    i**2\n",
    "```"
   ]
  },
  {
   "cell_type": "code",
   "execution_count": 7,
   "id": "3f33579c-b634-4b05-a750-ade4a5e33cb6",
   "metadata": {},
   "outputs": [
    {
     "name": "stderr",
     "output_type": "stream",
     "text": [
      "[NbConvertApp] WARNING | Config option `kernel_spec_manager_class` not recognized by `NbConvertApp`.\n",
      "[NbConvertApp] Converting notebook question12.ipynb to html\n",
      "[NbConvertApp] Writing 576259 bytes to q12HTMLoutput.html\n"
     ]
    }
   ],
   "source": [
    "! jupyter nbconvert question12.ipynb \\\n",
    "    --to html \\\n",
    "    --output=q12HTMLoutput.html \\\n",
    "    --no-input"
   ]
  },
  {
   "cell_type": "code",
   "execution_count": null,
   "id": "4b409bf8-c4ee-41d9-83e3-234c843989bb",
   "metadata": {},
   "outputs": [],
   "source": []
  },
  {
   "cell_type": "code",
   "execution_count": null,
   "id": "159773da-9fa7-4d84-ae81-56adb6f53cb4",
   "metadata": {},
   "outputs": [],
   "source": []
  }
 ],
 "metadata": {
  "kernelspec": {
   "display_name": "Python [conda env:jupyterlab_practice]",
   "language": "python",
   "name": "conda-env-jupyterlab_practice-py"
  },
  "language_info": {
   "codemirror_mode": {
    "name": "ipython",
    "version": 3
   },
   "file_extension": ".py",
   "mimetype": "text/x-python",
   "name": "python",
   "nbconvert_exporter": "python",
   "pygments_lexer": "ipython3",
   "version": "3.11.3"
  }
 },
 "nbformat": 4,
 "nbformat_minor": 5
}
