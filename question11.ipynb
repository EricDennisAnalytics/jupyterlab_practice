{
 "cells": [
  {
   "cell_type": "markdown",
   "id": "50b3cc0b-b877-432a-8d05-22c401524551",
   "metadata": {},
   "source": [
    "# Eric Dennis\n",
    "\n",
    "Notebook for assignment 7"
   ]
  },
  {
   "cell_type": "code",
   "execution_count": null,
   "id": "815c8e9e-792b-4e65-94ec-cf0f7c6f92d9",
   "metadata": {},
   "outputs": [],
   "source": []
  }
 ],
 "metadata": {
  "kernelspec": {
   "display_name": "Python [conda env:jupyterlab_practice]",
   "language": "python",
   "name": "conda-env-jupyterlab_practice-py"
  },
  "language_info": {
   "codemirror_mode": {
    "name": "ipython",
    "version": 3
   },
   "file_extension": ".py",
   "mimetype": "text/x-python",
   "name": "python",
   "nbconvert_exporter": "python",
   "pygments_lexer": "ipython3",
   "version": "3.11.3"
  }
 },
 "nbformat": 4,
 "nbformat_minor": 5
}
